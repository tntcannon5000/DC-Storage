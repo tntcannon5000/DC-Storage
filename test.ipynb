{
 "cells": [
  {
   "cell_type": "code",
   "execution_count": 1,
   "metadata": {},
   "outputs": [
    {
     "name": "stdout",
     "output_type": "stream",
     "text": [
      "None\n"
     ]
    },
    {
     "name": "stdout",
     "output_type": "stream",
     "text": [
      "Logged on as dcstorbot#7707\n",
      "------\n"
     ]
    }
   ],
   "source": [
    "import asyncio\n",
    "from src.testbot import client, run_bot\n",
    "from dotenv import find_dotenv, load_dotenv\n",
    "import os\n",
    "\n",
    "load_dotenv(find_dotenv())\n",
    "TOKEN = os.getenv('DISCORD_TOKEN')\n",
    "\n",
    "# Start the bot in the background\n",
    "run_bot()"
   ]
  },
  {
   "cell_type": "code",
   "execution_count": 2,
   "metadata": {},
   "outputs": [],
   "source": [
    "# Send a message to the specified channel\n",
    "channel_id = 1287734078124068866  # Replace with your channel ID\n",
    "message = \"Hello from Jupyter!\"\n",
    "channel = await client.send_message(channel_id, message)"
   ]
  },
  {
   "cell_type": "code",
   "execution_count": null,
   "metadata": {},
   "outputs": [],
   "source": [
    "channel.category_id"
   ]
  },
  {
   "cell_type": "code",
   "execution_count": null,
   "metadata": {},
   "outputs": [],
   "source": [
    "guild = await client.get_guild(1287734077453111327)\n",
    "print(guild)"
   ]
  },
  {
   "cell_type": "code",
   "execution_count": null,
   "metadata": {},
   "outputs": [],
   "source": [
    "print(guild.categories)"
   ]
  },
  {
   "cell_type": "code",
   "execution_count": 18,
   "metadata": {},
   "outputs": [],
   "source": [
    "e = await guild.create_text_channel(name=\"tes/txd\", category=guild.categories[1], topic=\"root/folder1/folder2/folder3/folder4/filename.ext\")"
   ]
  },
  {
   "cell_type": "code",
   "execution_count": null,
   "metadata": {},
   "outputs": [],
   "source": [
    "e.topic"
   ]
  }
 ],
 "metadata": {
  "kernelspec": {
   "display_name": "discordstorage",
   "language": "python",
   "name": "python3"
  },
  "language_info": {
   "codemirror_mode": {
    "name": "ipython",
    "version": 3
   },
   "file_extension": ".py",
   "mimetype": "text/x-python",
   "name": "python",
   "nbconvert_exporter": "python",
   "pygments_lexer": "ipython3",
   "version": "3.11.9"
  }
 },
 "nbformat": 4,
 "nbformat_minor": 2
}
