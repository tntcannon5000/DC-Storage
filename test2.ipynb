{
 "cells": [
  {
   "cell_type": "code",
   "execution_count": 1,
   "metadata": {},
   "outputs": [
    {
     "name": "stdout",
     "output_type": "stream",
     "text": [
      "Logged on as dcstorbot#7707\n",
      "------\n",
      "Bot started\n",
      "<testbot.MyClient object at 0x7f9c9e602e50>\n"
     ]
    }
   ],
   "source": [
    "from botutils import  "
   ]
  },
  {
   "cell_type": "code",
   "execution_count": 3,
   "metadata": {},
   "outputs": [],
   "source": [
    "guild = discord_server.result()"
   ]
  },
  {
   "cell_type": "code",
   "execution_count": 6,
   "metadata": {},
   "outputs": [
    {
     "data": {
      "text/plain": [
       "[<CategoryChannel id=1287734078124068864 name='Text channels' position=0 nsfw=False>,\n",
       " <CategoryChannel id=1288170978215591958 name='tables' position=1 nsfw=False>,\n",
       " <CategoryChannel id=1287745204228460554 name='data' position=2 nsfw=False>,\n",
       " <CategoryChannel id=1288188483877470308 name='wefrgetb' position=3 nsfw=False>]"
      ]
     },
     "execution_count": 6,
     "metadata": {},
     "output_type": "execute_result"
    }
   ],
   "source": [
    "guild.categories"
   ]
  }
 ],
 "metadata": {
  "kernelspec": {
   "display_name": "discordstorage",
   "language": "python",
   "name": "python3"
  },
  "language_info": {
   "codemirror_mode": {
    "name": "ipython",
    "version": 3
   },
   "file_extension": ".py",
   "mimetype": "text/x-python",
   "name": "python",
   "nbconvert_exporter": "python",
   "pygments_lexer": "ipython3",
   "version": "3.11.9"
  }
 },
 "nbformat": 4,
 "nbformat_minor": 2
}
